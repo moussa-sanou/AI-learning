{
 "cells": [
  {
   "cell_type": "code",
   "execution_count": 1,
   "id": "082764f3-8fff-424a-accc-1fdbe7a61f2d",
   "metadata": {},
   "outputs": [
    {
     "name": "stdout",
     "output_type": "stream",
     "text": [
      "Hello world\n"
     ]
    }
   ],
   "source": [
    "print('Hello world')"
   ]
  },
  {
   "cell_type": "code",
   "execution_count": 7,
   "id": "57b709ea-0b52-4dfc-89ce-cce178fb33d6",
   "metadata": {},
   "outputs": [
    {
     "data": {
      "text/plain": [
       "'/Users/samidollars/Desktop/ArtIficialIntel/Data Preparation '"
      ]
     },
     "execution_count": 7,
     "metadata": {},
     "output_type": "execute_result"
    }
   ],
   "source": [
    "%pwd"
   ]
  },
  {
   "cell_type": "code",
   "execution_count": 11,
   "id": "70bef387-4b10-4475-b8a6-1c1bad2fb1e1",
   "metadata": {},
   "outputs": [],
   "source": [
    "a = 4\n",
    "aa = 4"
   ]
  },
  {
   "cell_type": "code",
   "execution_count": 15,
   "id": "9ef4d026-84e3-49ac-aacb-a400437127df",
   "metadata": {},
   "outputs": [],
   "source": [
    "import datetime"
   ]
  },
  {
   "cell_type": "code",
   "execution_count": 17,
   "id": "552c6da2-6577-4622-9078-ab0e1ac2386d",
   "metadata": {},
   "outputs": [
    {
     "data": {
      "text/plain": [
       "\u001b[0;31mType:\u001b[0m        module\n",
       "\u001b[0;31mString form:\u001b[0m <module 'datetime' from '/opt/anaconda3/lib/python3.12/datetime.py'>\n",
       "\u001b[0;31mFile:\u001b[0m        /opt/anaconda3/lib/python3.12/datetime.py\n",
       "\u001b[0;31mDocstring:\u001b[0m   Fast implementation of the datetime type."
      ]
     },
     "metadata": {},
     "output_type": "display_data"
    }
   ],
   "source": [
    "datetime?"
   ]
  },
  {
   "cell_type": "code",
   "execution_count": 21,
   "id": "74a6e16a-0656-4035-ab18-f405dac0ce61",
   "metadata": {},
   "outputs": [],
   "source": [
    "def add_numbers(a, b):\n",
    "    \"\"\" Add two number together returns\n",
    "    ----------\n",
    "    the sum : type of arguments  \"\"\"\n",
    "    return a + b"
   ]
  },
  {
   "cell_type": "code",
   "execution_count": 23,
   "id": "bf13a900-edd2-44e1-9d32-7e8b6e5cb494",
   "metadata": {},
   "outputs": [
    {
     "name": "stdout",
     "output_type": "stream",
     "text": [
      "Object `add_number` not found.\n"
     ]
    }
   ],
   "source": [
    "add_number??"
   ]
  },
  {
   "cell_type": "code",
   "execution_count": 29,
   "id": "29b1f208-5bb9-4451-819b-0efb6784029c",
   "metadata": {},
   "outputs": [
    {
     "data": {
      "text/plain": [
       "{0: -0.7869005884166695,\n",
       " 1: 0.8411725818863832,\n",
       " 2: -1.4054006728167372,\n",
       " 3: -0.7913685024827728,\n",
       " 4: 0.5906597295499046,\n",
       " 5: 0.5577366297965722,\n",
       " 6: -0.6117701333452353}"
      ]
     },
     "execution_count": 29,
     "metadata": {},
     "output_type": "execute_result"
    }
   ],
   "source": [
    "import numpy as np\n",
    "data = {i : np.random.randn() for i in range(7)}\n",
    "data "
   ]
  },
  {
   "cell_type": "code",
   "execution_count": 31,
   "id": "20986a5e-455e-4d5a-9bf8-9468b5a6bac1",
   "metadata": {},
   "outputs": [
    {
     "data": {
      "text/plain": [
       "datetime.timedelta(days=87, seconds=45000)"
      ]
     },
     "execution_count": 31,
     "metadata": {},
     "output_type": "execute_result"
    }
   ],
   "source": [
    "from datetime import datetime, date, time\n",
    "\n",
    "dt = datetime(2022, 8, 20, 10, 0)\n",
    "dt2 = datetime(2022, 11, 15, 22, 30)\n",
    "delta = dt2 - dt\n",
    "delta"
   ]
  },
  {
   "cell_type": "code",
   "execution_count": 33,
   "id": "8fbc6e8f-2db8-4c52-9ac9-9b6bd2ff5037",
   "metadata": {},
   "outputs": [
    {
     "data": {
      "text/plain": [
       "13"
      ]
     },
     "execution_count": 33,
     "metadata": {},
     "output_type": "execute_result"
    }
   ],
   "source": [
    "sequence = [1, 2, 0, 4, 6, 5, 2, 1]\n",
    "total_until_5 = 0\n",
    "for value in sequence:\n",
    "    if value == 5:\n",
    "        break\n",
    "    total_until_5 += value\n",
    "total_until_5    "
   ]
  },
  {
   "cell_type": "code",
   "execution_count": 35,
   "id": "1d474406-c96c-4d9f-a28e-c22e5f4e1d63",
   "metadata": {},
   "outputs": [
    {
     "name": "stdout",
     "output_type": "stream",
     "text": [
      "0\n",
      "1\n",
      "2\n"
     ]
    }
   ],
   "source": [
    "# For Loop break\n",
    "for i in range(5):\n",
    "    if i == 3:\n",
    "        break\n",
    "    print(i)"
   ]
  },
  {
   "cell_type": "code",
   "execution_count": 37,
   "id": "89d074fd-092c-4790-ad62-b67304a09a7a",
   "metadata": {},
   "outputs": [
    {
     "name": "stdout",
     "output_type": "stream",
     "text": [
      "0\n",
      "1\n",
      "2\n",
      "4\n"
     ]
    }
   ],
   "source": [
    "# For loop continue\n",
    "for i in range(5):\n",
    "    if i == 3:\n",
    "        continue\n",
    "    print(i)"
   ]
  },
  {
   "cell_type": "code",
   "execution_count": 43,
   "id": "8b203854-4f21-474f-8a9a-169b423fe669",
   "metadata": {},
   "outputs": [],
   "source": [
    "x = 256\n",
    "total = 0\n",
    "while x > 0:\n",
    "    if total > 500:\n",
    "        break\n",
    "    total += x\n",
    "    x = x // 2"
   ]
  },
  {
   "cell_type": "code",
   "execution_count": null,
   "id": "c0578597-83c2-4081-acd4-9fe89d3ae191",
   "metadata": {},
   "outputs": [],
   "source": []
  }
 ],
 "metadata": {
  "kernelspec": {
   "display_name": "Python [conda env:base] *",
   "language": "python",
   "name": "conda-base-py"
  },
  "language_info": {
   "codemirror_mode": {
    "name": "ipython",
    "version": 3
   },
   "file_extension": ".py",
   "mimetype": "text/x-python",
   "name": "python",
   "nbconvert_exporter": "python",
   "pygments_lexer": "ipython3",
   "version": "3.12.7"
  }
 },
 "nbformat": 4,
 "nbformat_minor": 5
}
